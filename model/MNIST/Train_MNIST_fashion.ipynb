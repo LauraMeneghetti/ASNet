{
 "cells": [
  {
   "cell_type": "code",
   "execution_count": 1,
   "metadata": {},
   "outputs": [],
   "source": [
    "import torch\n",
    "import torch.nn as nn\n",
    "import torch\n",
    "import torchvision.datasets as datasets\n",
    "import torchvision.transforms as transforms\n",
    "import torch.nn.functional as F"
   ]
  },
  {
   "cell_type": "code",
   "execution_count": 5,
   "metadata": {},
   "outputs": [],
   "source": [
    "def train_and_save(model,device, train_loader,test_loader):\n",
    "    optimizer = torch.optim.SGD(model.parameters(), lr=0.01, momentum=0.5)\n",
    "\n",
    "    for epoch in range(1, 10 + 1):\n",
    "        train(model, device, train_loader, optimizer, epoch)\n",
    "        test(model, device, test_loader)\n",
    "    torch.save(model.state_dict(), '/home/cfcui/NIPS/ASNet/model/MNIST/best_mnist_fashion_model.pth')\n",
    "        "
   ]
  },
  {
   "cell_type": "code",
   "execution_count": 3,
   "metadata": {
    "scrolled": true
   },
   "outputs": [
    {
     "name": "stderr",
     "output_type": "stream",
     "text": [
      "\r",
      "0it [00:00, ?it/s]"
     ]
    },
    {
     "name": "stdout",
     "output_type": "stream",
     "text": [
      "Downloading http://fashion-mnist.s3-website.eu-central-1.amazonaws.com/train-images-idx3-ubyte.gz to /home/cfcui/datasets/MNIST_fashion/FashionMNIST/raw/train-images-idx3-ubyte.gz\n"
     ]
    },
    {
     "name": "stderr",
     "output_type": "stream",
     "text": [
      "26427392it [00:05, 4809970.13it/s]                              \n"
     ]
    },
    {
     "name": "stdout",
     "output_type": "stream",
     "text": [
      "Extracting /home/cfcui/datasets/MNIST_fashion/FashionMNIST/raw/train-images-idx3-ubyte.gz\n"
     ]
    },
    {
     "name": "stderr",
     "output_type": "stream",
     "text": [
      "\r",
      "0it [00:00, ?it/s]"
     ]
    },
    {
     "name": "stdout",
     "output_type": "stream",
     "text": [
      "Downloading http://fashion-mnist.s3-website.eu-central-1.amazonaws.com/train-labels-idx1-ubyte.gz to /home/cfcui/datasets/MNIST_fashion/FashionMNIST/raw/train-labels-idx1-ubyte.gz\n"
     ]
    },
    {
     "name": "stderr",
     "output_type": "stream",
     "text": [
      "32768it [00:00, 54678.07it/s]                            \n",
      "0it [00:00, ?it/s]"
     ]
    },
    {
     "name": "stdout",
     "output_type": "stream",
     "text": [
      "Extracting /home/cfcui/datasets/MNIST_fashion/FashionMNIST/raw/train-labels-idx1-ubyte.gz\n",
      "Downloading http://fashion-mnist.s3-website.eu-central-1.amazonaws.com/t10k-images-idx3-ubyte.gz to /home/cfcui/datasets/MNIST_fashion/FashionMNIST/raw/t10k-images-idx3-ubyte.gz\n"
     ]
    },
    {
     "name": "stderr",
     "output_type": "stream",
     "text": [
      "4423680it [00:02, 2093367.91it/s]                             \n",
      "0it [00:00, ?it/s]"
     ]
    },
    {
     "name": "stdout",
     "output_type": "stream",
     "text": [
      "Extracting /home/cfcui/datasets/MNIST_fashion/FashionMNIST/raw/t10k-images-idx3-ubyte.gz\n",
      "Downloading http://fashion-mnist.s3-website.eu-central-1.amazonaws.com/t10k-labels-idx1-ubyte.gz to /home/cfcui/datasets/MNIST_fashion/FashionMNIST/raw/t10k-labels-idx1-ubyte.gz\n"
     ]
    },
    {
     "name": "stderr",
     "output_type": "stream",
     "text": [
      "8192it [00:00, 24018.08it/s]            "
     ]
    },
    {
     "name": "stdout",
     "output_type": "stream",
     "text": [
      "Extracting /home/cfcui/datasets/MNIST_fashion/FashionMNIST/raw/t10k-labels-idx1-ubyte.gz\n",
      "Processing...\n",
      "Done!\n"
     ]
    },
    {
     "name": "stderr",
     "output_type": "stream",
     "text": [
      "\n",
      "/home/anaconda3/lib/python3.7/site-packages/ipykernel_launcher.py:16: UserWarning: To copy construct from a tensor, it is recommended to use sourceTensor.clone().detach() or sourceTensor.clone().detach().requires_grad_(True), rather than torch.tensor(sourceTensor).\n",
      "  app.launch_new_instance()\n",
      "/home/anaconda3/lib/python3.7/site-packages/ipykernel_launcher.py:17: UserWarning: To copy construct from a tensor, it is recommended to use sourceTensor.clone().detach() or sourceTensor.clone().detach().requires_grad_(True), rather than torch.tensor(sourceTensor).\n"
     ]
    }
   ],
   "source": [
    "\n",
    "import sys\n",
    "from model_MNIST import *\n",
    "sys.path.append('../')\n",
    "\n",
    "from datasets.dataloader_mnist_fashion import *\n",
    "\n",
    "# # Model\n",
    "model = Net()\n",
    "\n",
    "\n",
    "# dataset\n",
    "bs = 30\n",
    "train_loader =  load_mnist_fashion_train(bs)\n",
    "test_loader = load_mnist_fashion_test(bs)\n",
    "train_labels = torch.tensor(train_loader.dataset.targets)\n",
    "test_labels = torch.tensor(test_loader.dataset.targets)\n"
   ]
  },
  {
   "cell_type": "code",
   "execution_count": 6,
   "metadata": {
    "scrolled": true
   },
   "outputs": [
    {
     "name": "stdout",
     "output_type": "stream",
     "text": [
      "Train Epoch: 1 [0/60000 (0%)]\tLoss: 0.269327\n",
      "Train Epoch: 1 [3000/60000 (5%)]\tLoss: 0.438307\n",
      "Train Epoch: 1 [6000/60000 (10%)]\tLoss: 0.220212\n",
      "Train Epoch: 1 [9000/60000 (15%)]\tLoss: 0.233021\n",
      "Train Epoch: 1 [12000/60000 (20%)]\tLoss: 0.314608\n",
      "Train Epoch: 1 [15000/60000 (25%)]\tLoss: 0.084212\n",
      "Train Epoch: 1 [18000/60000 (30%)]\tLoss: 0.207707\n",
      "Train Epoch: 1 [21000/60000 (35%)]\tLoss: 0.271607\n",
      "Train Epoch: 1 [24000/60000 (40%)]\tLoss: 0.059368\n",
      "Train Epoch: 1 [27000/60000 (45%)]\tLoss: 0.119592\n",
      "Train Epoch: 1 [30000/60000 (50%)]\tLoss: 0.196049\n",
      "Train Epoch: 1 [33000/60000 (55%)]\tLoss: 0.152597\n",
      "Train Epoch: 1 [36000/60000 (60%)]\tLoss: 0.328828\n",
      "Train Epoch: 1 [39000/60000 (65%)]\tLoss: 0.171221\n",
      "Train Epoch: 1 [42000/60000 (70%)]\tLoss: 0.198295\n",
      "Train Epoch: 1 [45000/60000 (75%)]\tLoss: 0.270871\n",
      "Train Epoch: 1 [48000/60000 (80%)]\tLoss: 0.157247\n",
      "Train Epoch: 1 [51000/60000 (85%)]\tLoss: 0.166889\n",
      "Train Epoch: 1 [54000/60000 (90%)]\tLoss: 0.116327\n",
      "Train Epoch: 1 [57000/60000 (95%)]\tLoss: 0.252123\n",
      "\n",
      "Test set: Average loss: 0.2823, Accuracy: 8975/10000 (90%)\n",
      "\n",
      "Train Epoch: 2 [0/60000 (0%)]\tLoss: 0.264285\n",
      "Train Epoch: 2 [3000/60000 (5%)]\tLoss: 0.232686\n",
      "Train Epoch: 2 [6000/60000 (10%)]\tLoss: 0.308273\n",
      "Train Epoch: 2 [9000/60000 (15%)]\tLoss: 0.134638\n",
      "Train Epoch: 2 [12000/60000 (20%)]\tLoss: 0.138398\n",
      "Train Epoch: 2 [15000/60000 (25%)]\tLoss: 0.135344\n",
      "Train Epoch: 2 [18000/60000 (30%)]\tLoss: 0.453340\n",
      "Train Epoch: 2 [21000/60000 (35%)]\tLoss: 0.184403\n",
      "Train Epoch: 2 [24000/60000 (40%)]\tLoss: 0.234319\n",
      "Train Epoch: 2 [27000/60000 (45%)]\tLoss: 0.260800\n",
      "Train Epoch: 2 [30000/60000 (50%)]\tLoss: 0.223635\n",
      "Train Epoch: 2 [33000/60000 (55%)]\tLoss: 0.089586\n",
      "Train Epoch: 2 [36000/60000 (60%)]\tLoss: 0.062045\n",
      "Train Epoch: 2 [39000/60000 (65%)]\tLoss: 0.154003\n",
      "Train Epoch: 2 [42000/60000 (70%)]\tLoss: 0.227061\n",
      "Train Epoch: 2 [45000/60000 (75%)]\tLoss: 0.255888\n",
      "Train Epoch: 2 [48000/60000 (80%)]\tLoss: 0.045242\n",
      "Train Epoch: 2 [51000/60000 (85%)]\tLoss: 0.329227\n",
      "Train Epoch: 2 [54000/60000 (90%)]\tLoss: 0.200003\n",
      "Train Epoch: 2 [57000/60000 (95%)]\tLoss: 0.226016\n",
      "\n",
      "Test set: Average loss: 0.2908, Accuracy: 8949/10000 (89%)\n",
      "\n",
      "Train Epoch: 3 [0/60000 (0%)]\tLoss: 0.375704\n",
      "Train Epoch: 3 [3000/60000 (5%)]\tLoss: 0.185834\n",
      "Train Epoch: 3 [6000/60000 (10%)]\tLoss: 0.326613\n",
      "Train Epoch: 3 [9000/60000 (15%)]\tLoss: 0.337819\n",
      "Train Epoch: 3 [12000/60000 (20%)]\tLoss: 0.100661\n",
      "Train Epoch: 3 [15000/60000 (25%)]\tLoss: 0.172846\n",
      "Train Epoch: 3 [18000/60000 (30%)]\tLoss: 0.477599\n",
      "Train Epoch: 3 [21000/60000 (35%)]\tLoss: 0.102787\n",
      "Train Epoch: 3 [24000/60000 (40%)]\tLoss: 0.138496\n",
      "Train Epoch: 3 [27000/60000 (45%)]\tLoss: 0.153108\n",
      "Train Epoch: 3 [30000/60000 (50%)]\tLoss: 0.387922\n",
      "Train Epoch: 3 [33000/60000 (55%)]\tLoss: 0.308955\n",
      "Train Epoch: 3 [36000/60000 (60%)]\tLoss: 0.218931\n",
      "Train Epoch: 3 [39000/60000 (65%)]\tLoss: 0.117514\n",
      "Train Epoch: 3 [42000/60000 (70%)]\tLoss: 0.321840\n",
      "Train Epoch: 3 [45000/60000 (75%)]\tLoss: 0.273545\n",
      "Train Epoch: 3 [48000/60000 (80%)]\tLoss: 0.092164\n",
      "Train Epoch: 3 [51000/60000 (85%)]\tLoss: 0.393033\n",
      "Train Epoch: 3 [54000/60000 (90%)]\tLoss: 0.342726\n",
      "Train Epoch: 3 [57000/60000 (95%)]\tLoss: 0.203771\n",
      "\n",
      "Test set: Average loss: 0.2744, Accuracy: 9009/10000 (90%)\n",
      "\n",
      "Train Epoch: 4 [0/60000 (0%)]\tLoss: 0.115704\n",
      "Train Epoch: 4 [3000/60000 (5%)]\tLoss: 0.470175\n",
      "Train Epoch: 4 [6000/60000 (10%)]\tLoss: 0.382944\n",
      "Train Epoch: 4 [9000/60000 (15%)]\tLoss: 0.255862\n",
      "Train Epoch: 4 [12000/60000 (20%)]\tLoss: 0.213261\n",
      "Train Epoch: 4 [15000/60000 (25%)]\tLoss: 0.070290\n",
      "Train Epoch: 4 [18000/60000 (30%)]\tLoss: 0.098718\n",
      "Train Epoch: 4 [21000/60000 (35%)]\tLoss: 0.223231\n",
      "Train Epoch: 4 [24000/60000 (40%)]\tLoss: 0.465740\n",
      "Train Epoch: 4 [27000/60000 (45%)]\tLoss: 0.187149\n",
      "Train Epoch: 4 [30000/60000 (50%)]\tLoss: 0.310374\n",
      "Train Epoch: 4 [33000/60000 (55%)]\tLoss: 0.107734\n",
      "Train Epoch: 4 [36000/60000 (60%)]\tLoss: 0.270445\n",
      "Train Epoch: 4 [39000/60000 (65%)]\tLoss: 0.204738\n",
      "Train Epoch: 4 [42000/60000 (70%)]\tLoss: 0.161746\n",
      "Train Epoch: 4 [45000/60000 (75%)]\tLoss: 0.101390\n",
      "Train Epoch: 4 [48000/60000 (80%)]\tLoss: 0.166371\n",
      "Train Epoch: 4 [51000/60000 (85%)]\tLoss: 0.251611\n",
      "Train Epoch: 4 [54000/60000 (90%)]\tLoss: 0.280838\n",
      "Train Epoch: 4 [57000/60000 (95%)]\tLoss: 0.164750\n",
      "\n",
      "Test set: Average loss: 0.2637, Accuracy: 9052/10000 (91%)\n",
      "\n",
      "Train Epoch: 5 [0/60000 (0%)]\tLoss: 0.262999\n",
      "Train Epoch: 5 [3000/60000 (5%)]\tLoss: 0.143986\n",
      "Train Epoch: 5 [6000/60000 (10%)]\tLoss: 0.056942\n",
      "Train Epoch: 5 [9000/60000 (15%)]\tLoss: 0.132105\n",
      "Train Epoch: 5 [12000/60000 (20%)]\tLoss: 0.153470\n",
      "Train Epoch: 5 [15000/60000 (25%)]\tLoss: 0.285084\n",
      "Train Epoch: 5 [18000/60000 (30%)]\tLoss: 0.083895\n",
      "Train Epoch: 5 [21000/60000 (35%)]\tLoss: 0.173234\n",
      "Train Epoch: 5 [24000/60000 (40%)]\tLoss: 0.206172\n",
      "Train Epoch: 5 [27000/60000 (45%)]\tLoss: 0.175506\n",
      "Train Epoch: 5 [30000/60000 (50%)]\tLoss: 0.202565\n",
      "Train Epoch: 5 [33000/60000 (55%)]\tLoss: 0.140678\n",
      "Train Epoch: 5 [36000/60000 (60%)]\tLoss: 0.156284\n",
      "Train Epoch: 5 [39000/60000 (65%)]\tLoss: 0.067280\n",
      "Train Epoch: 5 [42000/60000 (70%)]\tLoss: 0.198873\n",
      "Train Epoch: 5 [45000/60000 (75%)]\tLoss: 0.330358\n",
      "Train Epoch: 5 [48000/60000 (80%)]\tLoss: 0.101246\n",
      "Train Epoch: 5 [51000/60000 (85%)]\tLoss: 0.160039\n",
      "Train Epoch: 5 [54000/60000 (90%)]\tLoss: 0.202415\n",
      "Train Epoch: 5 [57000/60000 (95%)]\tLoss: 0.086468\n",
      "\n",
      "Test set: Average loss: 0.2812, Accuracy: 8989/10000 (90%)\n",
      "\n",
      "Train Epoch: 6 [0/60000 (0%)]\tLoss: 0.400021\n",
      "Train Epoch: 6 [3000/60000 (5%)]\tLoss: 0.113283\n",
      "Train Epoch: 6 [6000/60000 (10%)]\tLoss: 0.115850\n",
      "Train Epoch: 6 [9000/60000 (15%)]\tLoss: 0.267199\n",
      "Train Epoch: 6 [12000/60000 (20%)]\tLoss: 0.135195\n",
      "Train Epoch: 6 [15000/60000 (25%)]\tLoss: 0.297319\n",
      "Train Epoch: 6 [18000/60000 (30%)]\tLoss: 0.035554\n",
      "Train Epoch: 6 [21000/60000 (35%)]\tLoss: 0.137203\n",
      "Train Epoch: 6 [24000/60000 (40%)]\tLoss: 0.088408\n",
      "Train Epoch: 6 [27000/60000 (45%)]\tLoss: 0.273941\n",
      "Train Epoch: 6 [30000/60000 (50%)]\tLoss: 0.271243\n",
      "Train Epoch: 6 [33000/60000 (55%)]\tLoss: 0.077455\n",
      "Train Epoch: 6 [36000/60000 (60%)]\tLoss: 0.484300\n",
      "Train Epoch: 6 [39000/60000 (65%)]\tLoss: 0.136469\n",
      "Train Epoch: 6 [42000/60000 (70%)]\tLoss: 0.409020\n",
      "Train Epoch: 6 [45000/60000 (75%)]\tLoss: 0.233946\n",
      "Train Epoch: 6 [48000/60000 (80%)]\tLoss: 0.227304\n",
      "Train Epoch: 6 [51000/60000 (85%)]\tLoss: 0.081128\n",
      "Train Epoch: 6 [54000/60000 (90%)]\tLoss: 0.085911\n",
      "Train Epoch: 6 [57000/60000 (95%)]\tLoss: 0.031444\n",
      "\n",
      "Test set: Average loss: 0.2524, Accuracy: 9103/10000 (91%)\n",
      "\n",
      "Train Epoch: 7 [0/60000 (0%)]\tLoss: 0.135549\n",
      "Train Epoch: 7 [3000/60000 (5%)]\tLoss: 0.016689\n",
      "Train Epoch: 7 [6000/60000 (10%)]\tLoss: 0.237392\n",
      "Train Epoch: 7 [9000/60000 (15%)]\tLoss: 0.502355\n",
      "Train Epoch: 7 [12000/60000 (20%)]\tLoss: 0.218713\n",
      "Train Epoch: 7 [15000/60000 (25%)]\tLoss: 0.274828\n",
      "Train Epoch: 7 [18000/60000 (30%)]\tLoss: 0.059714\n",
      "Train Epoch: 7 [21000/60000 (35%)]\tLoss: 0.338761\n",
      "Train Epoch: 7 [24000/60000 (40%)]\tLoss: 0.157969\n",
      "Train Epoch: 7 [27000/60000 (45%)]\tLoss: 0.163267\n",
      "Train Epoch: 7 [30000/60000 (50%)]\tLoss: 0.253057\n",
      "Train Epoch: 7 [33000/60000 (55%)]\tLoss: 0.188605\n",
      "Train Epoch: 7 [36000/60000 (60%)]\tLoss: 0.197390\n",
      "Train Epoch: 7 [39000/60000 (65%)]\tLoss: 0.086135\n",
      "Train Epoch: 7 [42000/60000 (70%)]\tLoss: 0.205237\n",
      "Train Epoch: 7 [45000/60000 (75%)]\tLoss: 0.196251\n",
      "Train Epoch: 7 [48000/60000 (80%)]\tLoss: 0.119261\n",
      "Train Epoch: 7 [51000/60000 (85%)]\tLoss: 0.051516\n",
      "Train Epoch: 7 [54000/60000 (90%)]\tLoss: 0.255418\n",
      "Train Epoch: 7 [57000/60000 (95%)]\tLoss: 0.108426\n",
      "\n",
      "Test set: Average loss: 0.2563, Accuracy: 9104/10000 (91%)\n",
      "\n",
      "Train Epoch: 8 [0/60000 (0%)]\tLoss: 0.024686\n",
      "Train Epoch: 8 [3000/60000 (5%)]\tLoss: 0.135095\n",
      "Train Epoch: 8 [6000/60000 (10%)]\tLoss: 0.109569\n",
      "Train Epoch: 8 [9000/60000 (15%)]\tLoss: 0.014101\n",
      "Train Epoch: 8 [12000/60000 (20%)]\tLoss: 0.266284\n",
      "Train Epoch: 8 [15000/60000 (25%)]\tLoss: 0.143130\n",
      "Train Epoch: 8 [18000/60000 (30%)]\tLoss: 0.131564\n",
      "Train Epoch: 8 [21000/60000 (35%)]\tLoss: 0.135337\n",
      "Train Epoch: 8 [24000/60000 (40%)]\tLoss: 0.086869\n",
      "Train Epoch: 8 [27000/60000 (45%)]\tLoss: 0.327503\n",
      "Train Epoch: 8 [30000/60000 (50%)]\tLoss: 0.050061\n",
      "Train Epoch: 8 [33000/60000 (55%)]\tLoss: 0.168001\n",
      "Train Epoch: 8 [36000/60000 (60%)]\tLoss: 0.242279\n",
      "Train Epoch: 8 [39000/60000 (65%)]\tLoss: 0.233325\n",
      "Train Epoch: 8 [42000/60000 (70%)]\tLoss: 0.132221\n",
      "Train Epoch: 8 [45000/60000 (75%)]\tLoss: 0.177193\n",
      "Train Epoch: 8 [48000/60000 (80%)]\tLoss: 0.091521\n"
     ]
    },
    {
     "name": "stdout",
     "output_type": "stream",
     "text": [
      "Train Epoch: 8 [51000/60000 (85%)]\tLoss: 0.091777\n",
      "Train Epoch: 8 [54000/60000 (90%)]\tLoss: 0.071305\n",
      "Train Epoch: 8 [57000/60000 (95%)]\tLoss: 0.173987\n",
      "\n",
      "Test set: Average loss: 0.2686, Accuracy: 9075/10000 (91%)\n",
      "\n",
      "Train Epoch: 9 [0/60000 (0%)]\tLoss: 0.058083\n",
      "Train Epoch: 9 [3000/60000 (5%)]\tLoss: 0.033890\n",
      "Train Epoch: 9 [6000/60000 (10%)]\tLoss: 0.177397\n",
      "Train Epoch: 9 [9000/60000 (15%)]\tLoss: 0.113713\n",
      "Train Epoch: 9 [12000/60000 (20%)]\tLoss: 0.107522\n",
      "Train Epoch: 9 [15000/60000 (25%)]\tLoss: 0.165675\n",
      "Train Epoch: 9 [18000/60000 (30%)]\tLoss: 0.061469\n",
      "Train Epoch: 9 [21000/60000 (35%)]\tLoss: 0.241769\n",
      "Train Epoch: 9 [24000/60000 (40%)]\tLoss: 0.062027\n",
      "Train Epoch: 9 [27000/60000 (45%)]\tLoss: 0.044610\n",
      "Train Epoch: 9 [30000/60000 (50%)]\tLoss: 0.072685\n",
      "Train Epoch: 9 [33000/60000 (55%)]\tLoss: 0.121468\n",
      "Train Epoch: 9 [36000/60000 (60%)]\tLoss: 0.268163\n",
      "Train Epoch: 9 [39000/60000 (65%)]\tLoss: 0.056843\n",
      "Train Epoch: 9 [42000/60000 (70%)]\tLoss: 0.082829\n",
      "Train Epoch: 9 [45000/60000 (75%)]\tLoss: 0.145043\n",
      "Train Epoch: 9 [48000/60000 (80%)]\tLoss: 0.087232\n",
      "Train Epoch: 9 [51000/60000 (85%)]\tLoss: 0.085458\n",
      "Train Epoch: 9 [54000/60000 (90%)]\tLoss: 0.255732\n",
      "Train Epoch: 9 [57000/60000 (95%)]\tLoss: 0.089870\n",
      "\n",
      "Test set: Average loss: 0.3003, Accuracy: 9058/10000 (91%)\n",
      "\n",
      "Train Epoch: 10 [0/60000 (0%)]\tLoss: 0.104268\n",
      "Train Epoch: 10 [3000/60000 (5%)]\tLoss: 0.132640\n",
      "Train Epoch: 10 [6000/60000 (10%)]\tLoss: 0.380663\n",
      "Train Epoch: 10 [9000/60000 (15%)]\tLoss: 0.039279\n",
      "Train Epoch: 10 [12000/60000 (20%)]\tLoss: 0.205745\n",
      "Train Epoch: 10 [15000/60000 (25%)]\tLoss: 0.208156\n",
      "Train Epoch: 10 [18000/60000 (30%)]\tLoss: 0.119578\n",
      "Train Epoch: 10 [21000/60000 (35%)]\tLoss: 0.398376\n",
      "Train Epoch: 10 [24000/60000 (40%)]\tLoss: 0.032069\n",
      "Train Epoch: 10 [27000/60000 (45%)]\tLoss: 0.231884\n",
      "Train Epoch: 10 [30000/60000 (50%)]\tLoss: 0.083015\n",
      "Train Epoch: 10 [33000/60000 (55%)]\tLoss: 0.360033\n",
      "Train Epoch: 10 [36000/60000 (60%)]\tLoss: 0.162605\n",
      "Train Epoch: 10 [39000/60000 (65%)]\tLoss: 0.106693\n",
      "Train Epoch: 10 [42000/60000 (70%)]\tLoss: 0.068055\n",
      "Train Epoch: 10 [45000/60000 (75%)]\tLoss: 0.121403\n",
      "Train Epoch: 10 [48000/60000 (80%)]\tLoss: 0.209670\n",
      "Train Epoch: 10 [51000/60000 (85%)]\tLoss: 0.009887\n",
      "Train Epoch: 10 [54000/60000 (90%)]\tLoss: 0.042402\n",
      "Train Epoch: 10 [57000/60000 (95%)]\tLoss: 0.127170\n",
      "\n",
      "Test set: Average loss: 0.2644, Accuracy: 9116/10000 (91%)\n",
      "\n"
     ]
    }
   ],
   "source": [
    "device=torch.device('cuda')\n",
    "model = model.to(device)\n",
    "train_and_save(model,device, train_loader,test_loader)"
   ]
  },
  {
   "cell_type": "code",
   "execution_count": null,
   "metadata": {},
   "outputs": [],
   "source": []
  }
 ],
 "metadata": {
  "kernelspec": {
   "display_name": "Python 3",
   "language": "python",
   "name": "python3"
  },
  "language_info": {
   "codemirror_mode": {
    "name": "ipython",
    "version": 3
   },
   "file_extension": ".py",
   "mimetype": "text/x-python",
   "name": "python",
   "nbconvert_exporter": "python",
   "pygments_lexer": "ipython3",
   "version": "3.7.2"
  }
 },
 "nbformat": 4,
 "nbformat_minor": 2
}
